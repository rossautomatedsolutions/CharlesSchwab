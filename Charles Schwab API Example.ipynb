{
 "cells": [
  {
   "cell_type": "markdown",
   "id": "f4c0a8c0",
   "metadata": {},
   "source": [
    "# Charles Schwab API\n",
    "\n",
    "### Demonstrate the following\n",
    "* How to authenticate\n",
    "* Sample calls using trader\n",
    "* Sample calls using marketdata"
   ]
  },
  {
   "cell_type": "code",
   "execution_count": null,
   "id": "9edd6a25",
   "metadata": {},
   "outputs": [],
   "source": []
  },
  {
   "cell_type": "code",
   "execution_count": null,
   "id": "341fa565",
   "metadata": {},
   "outputs": [],
   "source": [
    "# Import Libraries\n",
    "import webbrowser\n",
    "import urllib.parse\n",
    "import requests\n",
    "import base64"
   ]
  },
  {
   "cell_type": "code",
   "execution_count": null,
   "id": "d6937668",
   "metadata": {},
   "outputs": [],
   "source": []
  },
  {
   "cell_type": "code",
   "execution_count": null,
   "id": "97420e0e",
   "metadata": {},
   "outputs": [],
   "source": [
    "# Constants\n",
    "# CLIENT_ID = 'Enter Client ID'\n",
    "# CLIENT_SECRET = 'Enter Client Secret'\n",
    "# REDIRECT_URI = 'https://127.0.0.1'\n",
    "# SCOPE = 'scope_if_applicable'  # if needed\n",
    "# STATE = 'random_string_for_csrf_protection'  # if needed"
   ]
  },
  {
   "cell_type": "code",
   "execution_count": null,
   "id": "ec5319d1",
   "metadata": {},
   "outputs": [],
   "source": []
  },
  {
   "cell_type": "code",
   "execution_count": null,
   "id": "694c1870",
   "metadata": {},
   "outputs": [],
   "source": [
    "def get_authorization_url():\n",
    "    \"\"\"Generate and open the authorization URL.\"\"\"\n",
    "    params = {\n",
    "        'response_type': 'code',\n",
    "        'client_id': CLIENT_ID,\n",
    "        'redirect_uri': REDIRECT_URI,\n",
    "        'scope': SCOPE,\n",
    "        'state': STATE\n",
    "    }\n",
    "    query_string = urllib.parse.urlencode(params)\n",
    "    authorization_url = f\"https://api.schwabapi.com/v1/oauth/authorize?{query_string}\"\n",
    "    webbrowser.open(authorization_url)\n",
    "    return input(\"Paste the URL you were redirected to here: \")\n",
    "\n",
    "def extract_code_from_url(url):\n",
    "    \"\"\"Extract the authorization code from the redirected URL.\"\"\"\n",
    "    parsed_url = urllib.parse.urlparse(url)\n",
    "    query_params = urllib.parse.parse_qs(parsed_url.query)\n",
    "    return query_params.get('code', [None])[0]\n",
    "\n",
    "def get_access_token(authorization_code):\n",
    "    \"\"\"Exchange the authorization code for an access token.\"\"\"\n",
    "    TOKEN_URL = \"https://api.schwabapi.com/v1/oauth/token\"\n",
    "    credentials = f\"{CLIENT_ID}:{CLIENT_SECRET}\"\n",
    "    encoded_credentials = base64.b64encode(credentials.encode('utf-8')).decode('utf-8')\n",
    "    headers = {\n",
    "        'Authorization': f'Basic {encoded_credentials}',\n",
    "        'Content-Type': 'application/x-www-form-urlencoded'\n",
    "    }\n",
    "    payload = {\n",
    "        'grant_type': 'authorization_code',\n",
    "        'code': authorization_code,\n",
    "        'redirect_uri': REDIRECT_URI\n",
    "    }\n",
    "    response = requests.post(TOKEN_URL, headers=headers, data=payload)\n",
    "    if response.status_code == 200:\n",
    "        return response.json()['access_token']\n",
    "    else:\n",
    "        raise Exception(f\"Failed to obtain token: {response.text}\")\n",
    "\n",
    "def api_request(access_token, base_url, endpoint, params=None):\n",
    "    \"\"\"Generic function to make API requests.\"\"\"\n",
    "    headers = {'Authorization': f'Bearer {access_token}'}\n",
    "    url = f\"{base_url}{endpoint}\"\n",
    "    if params:\n",
    "        url += '?' + urllib.parse.urlencode(params)\n",
    "    response = requests.get(url, headers=headers)\n",
    "    if response.status_code == 200:\n",
    "        return response.json()\n",
    "    else:\n",
    "        raise Exception(f\"Failed to retrieve {endpoint}: {response.text}\")\n",
    "\n",
    "# Account details\n",
    "def get_accounts(access_token):\n",
    "    return api_request(access_token, \"https://api.schwabapi.com/trader/v1/\", 'accounts')\n",
    "\n",
    "# User preferences\n",
    "def get_user_preferences(access_token):\n",
    "    return api_request(access_token, \"https://api.schwabapi.com/trader/v1/\", 'userPreference')\n",
    "\n",
    "# Market data\n",
    "def get_quotes(access_token, symbol):\n",
    "    return api_request(access_token, \"https://api.schwabapi.com/marketdata/v1/\", f\"{symbol}/quotes\")\n",
    "\n",
    "def get_expiration_chain(access_token, symbol):\n",
    "    return api_request(access_token, \"https://api.schwabapi.com/marketdata/v1/\", 'expirationchain', {'symbol': symbol})\n",
    "\n",
    "def get_price_history(access_token, symbol, period_type='month', period=3, frequency_type='daily', need_previous_close=False):\n",
    "    params = {\n",
    "        'symbol': symbol,\n",
    "        'periodType': period_type,\n",
    "        'period': period,\n",
    "        'frequencyType': frequency_type,\n",
    "        'needPreviousClose': need_previous_close\n",
    "    }\n",
    "    return api_request(access_token, \"https://api.schwabapi.com/marketdata/v1/\", 'pricehistory', params)\n"
   ]
  },
  {
   "cell_type": "code",
   "execution_count": null,
   "id": "9549e0d7",
   "metadata": {},
   "outputs": [],
   "source": []
  },
  {
   "cell_type": "code",
   "execution_count": null,
   "id": "ad1bfd12",
   "metadata": {},
   "outputs": [],
   "source": [
    "# Authorization flow and example usage\n",
    "url = get_authorization_url()\n",
    "authorization_code = extract_code_from_url(url)\n",
    "access_token = get_access_token(authorization_code)"
   ]
  },
  {
   "cell_type": "code",
   "execution_count": null,
   "id": "74245f6f",
   "metadata": {},
   "outputs": [],
   "source": []
  },
  {
   "cell_type": "code",
   "execution_count": null,
   "id": "17c265b6",
   "metadata": {},
   "outputs": [],
   "source": [
    "# Retrieve data using the obtained access token\n",
    "accounts = get_accounts(access_token)\n",
    "user_preferences = get_user_preferences(access_token)\n",
    "symbol = 'AAPL'\n",
    "quotes = get_quotes(access_token, symbol)\n",
    "expiration_chain = get_expiration_chain(access_token, symbol)\n",
    "price_history = get_price_history(access_token, symbol)\n",
    "\n",
    "# Display results\n",
    "print(\"Accounts:\", accounts)\n",
    "print(\"User Preferences:\", user_preferences)\n",
    "print(\"Quotes for AAPL:\", quotes)\n",
    "print(\"Expiration Chain for AAPL:\", expiration_chain)\n",
    "print(\"Price History for AAPL:\", price_history)"
   ]
  },
  {
   "cell_type": "code",
   "execution_count": null,
   "id": "8426b0fd",
   "metadata": {},
   "outputs": [],
   "source": []
  }
 ],
 "metadata": {
  "kernelspec": {
   "display_name": "Python 3 (ipykernel)",
   "language": "python",
   "name": "python3"
  },
  "language_info": {
   "codemirror_mode": {
    "name": "ipython",
    "version": 3
   },
   "file_extension": ".py",
   "mimetype": "text/x-python",
   "name": "python",
   "nbconvert_exporter": "python",
   "pygments_lexer": "ipython3",
   "version": "3.10.9"
  }
 },
 "nbformat": 4,
 "nbformat_minor": 5
}
